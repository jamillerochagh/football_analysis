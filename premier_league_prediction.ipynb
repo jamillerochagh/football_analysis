{
 "cells": [
  {
   "cell_type": "code",
   "execution_count": 4,
   "metadata": {},
   "outputs": [],
   "source": [
    "# Importing libraries\n",
    "import pandas as pd\n",
    "from sklearn.preprocessing import MinMaxScaler, StandardScaler\n",
    "from sklearn.model_selection import train_test_split, GridSearchCV, cross_val_score\n",
    "from sklearn.ensemble import RandomForestClassifier\n",
    "from sklearn.metrics import accuracy_score, classification_report\n",
    "from sklearn.tree import DecisionTreeClassifier\n",
    "import matplotlib.pyplot as plt\n",
    "from imblearn.over_sampling import SMOTE\n",
    "import numpy as np\n",
    "from sklearn.pipeline import make_pipeline\n",
    "from sklearn.preprocessing import PolynomialFeatures\n",
    "from sklearn.metrics import mean_squared_error\n",
    "from sklearn.linear_model import LinearRegression"
   ]
  },
  {
   "cell_type": "code",
   "execution_count": 5,
   "metadata": {},
   "outputs": [
    {
     "name": "stdout",
     "output_type": "stream",
     "text": [
      "         Home      Away  Round        Date   Time   WIN  minuto       evento  \\\n",
      "0  Birmingham  West Ham     38  11.05.2003  16:00  Draw      27  Yellow_Away   \n",
      "1  Birmingham  West Ham     38  11.05.2003  16:00  Draw      57  Yellow_Home   \n",
      "2  Birmingham  West Ham     38  11.05.2003  16:00  Draw      66    Goal_Away   \n",
      "3  Birmingham  West Ham     38  11.05.2003  16:00  Draw      80    Goal_Home   \n",
      "4  Birmingham  West Ham     38  11.05.2003  16:00  Draw      88    Goal_Home   \n",
      "\n",
      "   Yellow_Away  Yellow_Home  Goal_Away  Goal_Home  Red_Card_Away  \\\n",
      "0            1            0          0          0              0   \n",
      "1            1            1          0          0              0   \n",
      "2            1            1          1          0              0   \n",
      "3            1            1          1          1              0   \n",
      "4            1            1          1          2              0   \n",
      "\n",
      "   Red_Card_Home  Own_Home  Own_Away  Penalty_Missed_Home  \\\n",
      "0              0         0         0                    0   \n",
      "1              0         0         0                    0   \n",
      "2              0         0         0                    0   \n",
      "3              0         0         0                    0   \n",
      "4              0         0         0                    0   \n",
      "\n",
      "   Penalty_Missed_Away  Var_Home  Var_Away  \n",
      "0                    0         0         0  \n",
      "1                    0         0         0  \n",
      "2                    0         0         0  \n",
      "3                    0         0         0  \n",
      "4                    0         0         0  \n"
     ]
    }
   ],
   "source": [
    "# Loading datasets\n",
    "train_df = pd.read_csv('/Users/jamille.ghazaleh/Downloads/Github/football_analysis/1-avaliacao-pratica-2-2024-ml-uniceub/train_futebol.csv')\n",
    "test_df = pd.read_csv('/Users/jamille.ghazaleh/Downloads/Github/football_analysis/1-avaliacao-pratica-2-2024-ml-uniceub/test_futebol.csv')\n",
    "submission_df = pd.read_csv('/Users/jamille.ghazaleh/Downloads/Github/football_analysis/1-avaliacao-pratica-2-2024-ml-uniceub/sample_submission.csv')\n",
    "print(train_df.head())"
   ]
  },
  {
   "cell_type": "markdown",
   "metadata": {},
   "source": [
    "-----------------------------------------------------------"
   ]
  },
  {
   "cell_type": "markdown",
   "metadata": {},
   "source": [
    "EDA"
   ]
  },
  {
   "cell_type": "code",
   "execution_count": 6,
   "metadata": {},
   "outputs": [
    {
     "name": "stdout",
     "output_type": "stream",
     "text": [
      "(40330, 20)\n"
     ]
    }
   ],
   "source": [
    "# Understanding dimensions\n",
    "print(train_df.shape)"
   ]
  },
  {
   "cell_type": "code",
   "execution_count": 7,
   "metadata": {},
   "outputs": [
    {
     "name": "stdout",
     "output_type": "stream",
     "text": [
      "              Round        minuto   Yellow_Away   Yellow_Home     Goal_Away  \\\n",
      "count  40330.000000  40330.000000  40330.000000  40330.000000  40330.000000   \n",
      "mean      18.978031     54.656534      1.157575      0.926878      0.799207   \n",
      "std       10.954710     25.333753      1.136995      1.026580      0.938274   \n",
      "min        1.000000      0.000000      0.000000      0.000000      0.000000   \n",
      "25%        9.000000     35.000000      0.000000      0.000000      0.000000   \n",
      "50%       19.000000     57.000000      1.000000      1.000000      1.000000   \n",
      "75%       28.000000     77.000000      2.000000      1.000000      1.000000   \n",
      "max       38.000000    101.000000      9.000000      7.000000      9.000000   \n",
      "\n",
      "          Goal_Home  Red_Card_Away  Red_Card_Home      Own_Home      Own_Away  \\\n",
      "count  40330.000000   40330.000000   40330.000000  40330.000000  40330.000000   \n",
      "mean       1.026382       0.054947       0.038978      0.040863      0.029259   \n",
      "std        1.063413       0.235162       0.200221      0.204748      0.171739   \n",
      "min        0.000000       0.000000       0.000000      0.000000      0.000000   \n",
      "25%        0.000000       0.000000       0.000000      0.000000      0.000000   \n",
      "50%        1.000000       0.000000       0.000000      0.000000      0.000000   \n",
      "75%        2.000000       0.000000       0.000000      0.000000      0.000000   \n",
      "max        9.000000       2.000000       3.000000      3.000000      2.000000   \n",
      "\n",
      "       Penalty_Missed_Home  Penalty_Missed_Away      Var_Home      Var_Away  \n",
      "count         40330.000000         40330.000000  40330.000000  40330.000000  \n",
      "mean              0.009943             0.005653      0.002628      0.001587  \n",
      "std               0.102416             0.076936      0.051200      0.042806  \n",
      "min               0.000000             0.000000      0.000000      0.000000  \n",
      "25%               0.000000             0.000000      0.000000      0.000000  \n",
      "50%               0.000000             0.000000      0.000000      0.000000  \n",
      "75%               0.000000             0.000000      0.000000      0.000000  \n",
      "max               2.000000             2.000000      1.000000      2.000000  \n"
     ]
    }
   ],
   "source": [
    "# Statistics\n",
    "print(train_df.describe())"
   ]
  },
  {
   "cell_type": "code",
   "execution_count": 8,
   "metadata": {},
   "outputs": [
    {
     "name": "stdout",
     "output_type": "stream",
     "text": [
      "Home                   0\n",
      "Away                   0\n",
      "Round                  0\n",
      "Date                   0\n",
      "Time                   0\n",
      "WIN                    0\n",
      "minuto                 0\n",
      "evento                 0\n",
      "Yellow_Away            0\n",
      "Yellow_Home            0\n",
      "Goal_Away              0\n",
      "Goal_Home              0\n",
      "Red_Card_Away          0\n",
      "Red_Card_Home          0\n",
      "Own_Home               0\n",
      "Own_Away               0\n",
      "Penalty_Missed_Home    0\n",
      "Penalty_Missed_Away    0\n",
      "Var_Home               0\n",
      "Var_Away               0\n",
      "dtype: int64\n"
     ]
    }
   ],
   "source": [
    "# Data cleaning\n",
    "print(train_df.isnull().sum())"
   ]
  },
  {
   "cell_type": "code",
   "execution_count": 9,
   "metadata": {},
   "outputs": [
    {
     "name": "stdout",
     "output_type": "stream",
     "text": [
      "Home                   object\n",
      "Away                   object\n",
      "Round                   int64\n",
      "Date                   object\n",
      "Time                   object\n",
      "WIN                    object\n",
      "minuto                  int64\n",
      "evento                 object\n",
      "Yellow_Away             int64\n",
      "Yellow_Home             int64\n",
      "Goal_Away               int64\n",
      "Goal_Home               int64\n",
      "Red_Card_Away           int64\n",
      "Red_Card_Home           int64\n",
      "Own_Home                int64\n",
      "Own_Away                int64\n",
      "Penalty_Missed_Home     int64\n",
      "Penalty_Missed_Away     int64\n",
      "Var_Home                int64\n",
      "Var_Away                int64\n",
      "dtype: object\n"
     ]
    }
   ],
   "source": [
    "# Understanding type of data \n",
    "print(train_df.dtypes)"
   ]
  },
  {
   "cell_type": "markdown",
   "metadata": {},
   "source": [
    "-----------------------------------------------------------"
   ]
  },
  {
   "cell_type": "code",
   "execution_count": 10,
   "metadata": {},
   "outputs": [],
   "source": [
    "# Defining the target variable 'Win'\n",
    "train_df['WIN'] = train_df.apply(lambda row: 'Win' if row['Goal_Home'] > row['Goal_Away'] else ('Lose' if row['Goal_Home'] < row['Goal_Away'] else 'Draw'), axis=1)\n",
    "\n",
    "train_df = train_df.dropna(subset=['WIN'])\n",
    "\n",
    "# Defining the features (X) and target (y)\n",
    "X = train_df.drop(columns=['WIN'])\n",
    "y = train_df['WIN']\n"
   ]
  },
  {
   "cell_type": "code",
   "execution_count": 11,
   "metadata": {},
   "outputs": [],
   "source": [
    "# Converting categorical columns to dummies\n",
    "X = pd.get_dummies(X, drop_first=True)\n",
    "X_test = pd.get_dummies(test_df, drop_first=True)"
   ]
  },
  {
   "cell_type": "code",
   "execution_count": 12,
   "metadata": {},
   "outputs": [],
   "source": [
    "X_test = X_test.reindex(columns=X.columns, fill_value=0)\n",
    "\n",
    "# Splitting the data into training and validation sets\n",
    "X_train, X_val, y_train, y_val = train_test_split(X, y, test_size=0.2, random_state=42)"
   ]
  },
  {
   "cell_type": "markdown",
   "metadata": {},
   "source": [
    "-------------------"
   ]
  },
  {
   "cell_type": "code",
   "execution_count": 13,
   "metadata": {},
   "outputs": [],
   "source": [
    "# Setting numeric columns\n",
    "numeric_columns = X_train.select_dtypes(include=['float64', 'int64']).columns"
   ]
  },
  {
   "cell_type": "code",
   "execution_count": 14,
   "metadata": {},
   "outputs": [],
   "source": [
    "# Scaling the numerical columns\n",
    "scaler = StandardScaler()\n",
    "numeric_columns = X_train.select_dtypes(include=['float64', 'int64']).columns\n",
    "\n",
    "# Applying the scaler to the training data\n",
    "X_train[numeric_columns] = scaler.fit_transform(X_train[numeric_columns])\n",
    "X_val[numeric_columns] = scaler.transform(X_val[numeric_columns])\n",
    "X_test[numeric_columns] = scaler.transform(X_test[numeric_columns])"
   ]
  },
  {
   "cell_type": "code",
   "execution_count": 15,
   "metadata": {},
   "outputs": [
    {
     "name": "stdout",
     "output_type": "stream",
     "text": [
      "Validation Accuracy: 0.8613935035953385\n",
      "              precision    recall  f1-score   support\n",
      "\n",
      "        Draw       1.00      0.63      0.77      2467\n",
      "        Lose       0.96      0.91      0.94      2332\n",
      "         Win       0.76      1.00      0.86      3267\n",
      "\n",
      "    accuracy                           0.86      8066\n",
      "   macro avg       0.91      0.85      0.86      8066\n",
      "weighted avg       0.89      0.86      0.86      8066\n",
      "\n"
     ]
    }
   ],
   "source": [
    "# Initialize the RandomForestClassifier with a fixed random state for reproducibility.\n",
    "best_params = {'criterion': 'gini', 'max_depth': 20, 'max_features': 'sqrt', 'min_samples_leaf': 1, 'min_samples_split': 5, 'n_estimators': 100}\n",
    "model = RandomForestClassifier(**best_params, random_state=42)\n",
    "model.fit(X_train, y_train)\n",
    "\n",
    "# Evaluation on the validation set\n",
    "y_val_pred = model.predict(X_val)\n",
    "val_accuracy = accuracy_score(y_val, y_val_pred)\n",
    "print(f'Validation Accuracy: {val_accuracy}')\n",
    "print(classification_report(y_val, y_val_pred))"
   ]
  },
  {
   "cell_type": "code",
   "execution_count": 16,
   "metadata": {},
   "outputs": [
    {
     "name": "stdout",
     "output_type": "stream",
     "text": [
      "Validation Accuracy: 0.8613935035953385\n",
      "              precision    recall  f1-score   support\n",
      "\n",
      "        Draw       1.00      0.63      0.77      2467\n",
      "        Lose       0.96      0.91      0.94      2332\n",
      "         Win       0.76      1.00      0.86      3267\n",
      "\n",
      "    accuracy                           0.86      8066\n",
      "   macro avg       0.91      0.85      0.86      8066\n",
      "weighted avg       0.89      0.86      0.86      8066\n",
      "\n"
     ]
    }
   ],
   "source": [
    "y_val_pred = model.predict(X_val)\n",
    "val_accuracy = accuracy_score(y_val, y_val_pred)\n",
    "print(f'Validation Accuracy: {val_accuracy}')\n",
    "print(classification_report(y_val, y_val_pred))"
   ]
  },
  {
   "cell_type": "code",
   "execution_count": 17,
   "metadata": {},
   "outputs": [],
   "source": [
    "# Make predictions on the test set\n",
    "X_test = test_df.reindex(columns=X_train.columns, fill_value=0)\n",
    "test_predictions = model.predict(X_test)\n",
    "\n",
    "# Save the predictions for submission\n",
    "submission_df['WIN'] = test_predictions\n",
    "submission_df.to_csv('submission.csv', index=False)"
   ]
  },
  {
   "cell_type": "code",
   "execution_count": 18,
   "metadata": {},
   "outputs": [
    {
     "name": "stdout",
     "output_type": "stream",
     "text": [
      "   index  WIN\n",
      "0      0  Win\n",
      "1      1  Win\n",
      "2      2  Win\n",
      "3      3  Win\n",
      "4      4  Win\n"
     ]
    }
   ],
   "source": [
    "print(submission_df.head())"
   ]
  },
  {
   "cell_type": "markdown",
   "metadata": {},
   "source": [
    "--------"
   ]
  },
  {
   "cell_type": "code",
   "execution_count": 19,
   "metadata": {},
   "outputs": [
    {
     "name": "stdout",
     "output_type": "stream",
     "text": [
      "Win     16517\n",
      "Draw    12416\n",
      "Lose    11397\n",
      "Name: WIN, dtype: int64\n"
     ]
    }
   ],
   "source": [
    "# Print the count of each unique value in the target variable 'y'\n",
    "print(y.value_counts())"
   ]
  },
  {
   "cell_type": "code",
   "execution_count": 20,
   "metadata": {},
   "outputs": [
    {
     "name": "stdout",
     "output_type": "stream",
     "text": [
      "Training Accuracy: 0.8900322340689313\n"
     ]
    }
   ],
   "source": [
    "# Check the accuracy on the training set\n",
    "y_train_pred = model.predict(X_train)\n",
    "train_accuracy = accuracy_score(y_train, y_train_pred)\n",
    "print(f'Training Accuracy: {train_accuracy}')"
   ]
  },
  {
   "cell_type": "code",
   "execution_count": 21,
   "metadata": {},
   "outputs": [
    {
     "name": "stdout",
     "output_type": "stream",
     "text": [
      "Average Accuracy with Cross-Validation: 0.8645858666735071\n"
     ]
    }
   ],
   "source": [
    "# Perform cross-validation on the model using the training data\n",
    "scores = cross_val_score(model, X_train, y_train, cv=5)\n",
    "print(f'Average Accuracy with Cross-Validation: {scores.mean()}')"
   ]
  },
  {
   "cell_type": "code",
   "execution_count": 22,
   "metadata": {},
   "outputs": [
    {
     "name": "stdout",
     "output_type": "stream",
     "text": [
      "Accuracy with Decision Tree (max_depth=3): 0.8860649640466154\n",
      "Accuracy with Decision Tree (max_depth=5): 0.9841309199107364\n",
      "Accuracy with Decision Tree (max_depth=7): 0.9973964790478552\n",
      "Accuracy with Decision Tree (max_depth=10): 0.9998760228118027\n"
     ]
    }
   ],
   "source": [
    "for depth in [3, 5, 7, 10]:\n",
    "    model = DecisionTreeClassifier(max_depth=depth)\n",
    "    model.fit(X_train, y_train)\n",
    "    y_pred = model.predict(X_val)\n",
    "    accuracy = accuracy_score(y_val, y_pred)\n",
    "    print(f'Accuracy with Decision Tree (max_depth={depth}): {accuracy}')\n"
   ]
  },
  {
   "cell_type": "code",
   "execution_count": 23,
   "metadata": {},
   "outputs": [
    {
     "name": "stdout",
     "output_type": "stream",
     "text": [
      "Accuracy with Decision Tree: 0.9997520456236053\n"
     ]
    }
   ],
   "source": [
    "# Initialize a DecisionTreeClassifier with a maximum depth of 3\n",
    "model = DecisionTreeClassifier(max_depth=10)\n",
    "model.fit(X_train, y_train)\n",
    "\n",
    "# Make predictions on the validation set\n",
    "y_pred = model.predict(X_val)\n",
    "accuracy = accuracy_score(y_val, y_pred)\n",
    "print(f'Accuracy with Decision Tree: {accuracy}')"
   ]
  },
  {
   "cell_type": "code",
   "execution_count": 24,
   "metadata": {},
   "outputs": [],
   "source": [
    "# Oversampling with SMOTE to handle class imbalance\n",
    "smote = SMOTE(random_state=42)\n",
    "X_train_res, y_train_res = smote.fit_resample(X_train, y_train)\n"
   ]
  },
  {
   "cell_type": "code",
   "execution_count": 25,
   "metadata": {},
   "outputs": [
    {
     "name": "stdout",
     "output_type": "stream",
     "text": [
      "              precision    recall  f1-score   support\n",
      "\n",
      "        Draw       1.00      1.00      1.00      2467\n",
      "        Lose       1.00      1.00      1.00      2332\n",
      "         Win       1.00      1.00      1.00      3267\n",
      "\n",
      "    accuracy                           1.00      8066\n",
      "   macro avg       1.00      1.00      1.00      8066\n",
      "weighted avg       1.00      1.00      1.00      8066\n",
      "\n"
     ]
    }
   ],
   "source": [
    "# Print the classification report for the validation set predictions\n",
    "print(classification_report(y_val, y_pred))"
   ]
  },
  {
   "cell_type": "code",
   "execution_count": 26,
   "metadata": {},
   "outputs": [
    {
     "name": "stdout",
     "output_type": "stream",
     "text": [
      "Overfitting (MSE): 0.020\n",
      "Underfitting (MSE): 0.229\n",
      "Balanced (MSE): 0.026\n"
     ]
    },
    {
     "data": {
      "image/png": "[encoded data removed]",
      "text/plain": [
       "<Figure size 1200x600 with 1 Axes>"
      ]
     },
     "metadata": {},
     "output_type": "display_data"
    }
   ],
   "source": [
    "# Generating some data\n",
    "np.random.seed(0)\n",
    "X = np.sort(2 * np.pi * np.random.rand(100, 1), axis=0)\n",
    "y = np.sin(X).ravel() + np.random.normal(0, 0.15, X.shape[0])\n",
    "\n",
    "X_sorted = np.sort(X, axis=0)\n",
    "\n",
    "# Overfitting model:\n",
    "overfitting_model = make_pipeline(PolynomialFeatures(15), LinearRegression())\n",
    "overfitting_model.fit(X, y)\n",
    "overfitting_predictions = overfitting_model.predict(X_sorted)\n",
    "\n",
    "# Underfitting model:\n",
    "underfitting_model = LinearRegression()\n",
    "underfitting_model.fit(X, y)\n",
    "underfitting_predictions = underfitting_model.predict(X_sorted)\n",
    "\n",
    "# Balanced model:\n",
    "balanced_model = make_pipeline(PolynomialFeatures(3), LinearRegression())\n",
    "balanced_model.fit(X, y)\n",
    "balanced_predictions = balanced_model.predict(X_sorted)\n",
    "\n",
    "# Calculating (MSE) for both models.\n",
    "mse_overfitting = mean_squared_error(y, overfitting_model.predict(X))\n",
    "mse_underfitting = mean_squared_error(y, underfitting_model.predict(X))\n",
    "mse_balanced = mean_squared_error(y, balanced_model.predict(X))\n",
    "\n",
    "# Printing \n",
    "print(f\"Overfitting (MSE): {mse_overfitting:.3f}\")\n",
    "print(f\"Underfitting (MSE): {mse_underfitting:.3f}\")\n",
    "print(f\"Balanced (MSE): {mse_balanced:.3f}\")\n",
    "\n",
    "# Plotting results\n",
    "plt.figure(figsize=(12, 6))\n",
    "plt.scatter(X, y, color='blue', s=20, label='Dados reais')  # Plotando os dados reais\n",
    "plt.plot(X_sorted, overfitting_predictions, color='red', label='Overfitting (polinomial de grau 15)')  # Plotando as previsões do modelo overfitting\n",
    "plt.plot(X_sorted, underfitting_predictions, color='green', linestyle='--', label='Underfitting (linear simples)')  # Plotando as previsões do modelo underfitting\n",
    "plt.plot(X_sorted, balanced_predictions, color='orange', linestyle='-.', label='Modelo Equilibrado (polinomial de grau 3)')  # Plotando as previsões do modelo equilibrado\n",
    "plt.xlabel('X')\n",
    "plt.ylabel('y')\n",
    "plt.title('Overfitting vs. Underfitting')\n",
    "plt.legend() \n",
    "plt.show() "
   ]
  },
  {
   "cell_type": "code",
   "execution_count": 39,
   "metadata": {},
   "outputs": [],
   "source": [
    "def metricas_classificacao(y_real, y_pred):\n",
    "    # Calculate classification metrics\n",
    "    metrics = {\n",
    "        \"Acurácia\": accuracy_score(y_real, y_pred),  # Accuracy metric\n",
    "        \"Precisão (macro)\": precision_score(y_real, y_pred, average='macro'),  # Precision metric (macro average)\n",
    "        \"Recall (macro)\": recall_score(y_real, y_pred, average='macro'),  # Recall metric (macro average)\n",
    "        \"F1-Score (macro)\": f1_score(y_real, y_pred, average='macro')  # F1-Score metric (macro average)\n",
    "    }\n",
    "    \n",
    "    # Print metrics\n",
    "    for key, value in metrics.items():\n",
    "        print(f\"{key}: {value}\")\n",
    "\n",
    "    # Calculate the confusion matrix\n",
    "    confusion_mat = confusion_matrix(y_real, y_pred)\n",
    "\n",
    "    # Print the confusion matrix\n",
    "    print(\"Confusion Matrix:\")\n",
    "    sns.heatmap(confusion_mat, annot=True, cmap='YlGnBu', fmt='g')  # Plot confusion matrix with heatmap\n",
    "    plt.xlabel('Predicted')  # Set x-axis label\n",
    "    plt.ylabel('Actual')  # Set y-axis label\n",
    "    plt.show(block=True)  # Show the plot\n",
    "\n",
    "    return metrics  # Return the dictionary containing all metrics"
   ]
  },
  {
   "cell_type": "code",
   "execution_count": 40,
   "metadata": {},
   "outputs": [
    {
     "name": "stdout",
     "output_type": "stream",
     "text": [
      "Acurácia: 0.9997520456236053\n",
      "Precisão (macro): 0.9997219443017181\n",
      "Recall (macro): 0.9997219443017181\n",
      "F1-Score (macro): 0.9997219443017181\n",
      "Matriz de Confusão:\n"
     ]
    },
    {
     "data": {
      "image/png": "[encoded data removed]",
      "text/plain": [
       "<Figure size 640x480 with 2 Axes>"
      ]
     },
     "metadata": {},
     "output_type": "display_data"
    },
    {
     "data": {
      "text/plain": [
       "{'Acurácia': 0.9997520456236053,\n",
       " 'Precisão (macro)': 0.9997219443017181,\n",
       " 'Recall (macro)': 0.9997219443017181,\n",
       " 'F1-Score (macro)': 0.9997219443017181}"
      ]
     },
     "execution_count": 40,
     "metadata": {},
     "output_type": "execute_result"
    }
   ],
   "source": [
    "y_val_pred = model.predict(X_val)\n",
    "metricas_classificacao(y_val, y_val_pred)"
   ]
  }
 ],
 "metadata": {
  "kernelspec": {
   "display_name": "Python 3",
   "language": "python",
   "name": "python3"
  },
  "language_info": {
   "codemirror_mode": {
    "name": "ipython",
    "version": 3
   },
   "file_extension": ".py",
   "mimetype": "text/x-python",
   "name": "python",
   "nbconvert_exporter": "python",
   "pygments_lexer": "ipython3",
   "version": "3.9.13"
  }
 },
 "nbformat": 4,
 "nbformat_minor": 2
}
